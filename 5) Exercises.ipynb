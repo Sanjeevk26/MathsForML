{
 "cells": [
  {
   "cell_type": "code",
   "execution_count": 1,
   "id": "2b3bced8",
   "metadata": {},
   "outputs": [],
   "source": [
    "import numpy as np\n",
    "import matplotlib.pyplot as plt\n",
    "import torch\n",
    "import tensorflow as tf"
   ]
  },
  {
   "cell_type": "markdown",
   "id": "75f72101",
   "metadata": {},
   "source": [
    "#### 1) What is the transpose of the vector ([[25],[2],[-3],[-23]])"
   ]
  },
  {
   "cell_type": "code",
   "execution_count": 3,
   "id": "bd3d71ff",
   "metadata": {},
   "outputs": [
    {
     "data": {
      "text/plain": [
       "array([[ 25],\n",
       "       [  2],\n",
       "       [ -3],\n",
       "       [-23]])"
      ]
     },
     "execution_count": 3,
     "metadata": {},
     "output_type": "execute_result"
    }
   ],
   "source": [
    "X = np.array([[25],[2],[-3],[-23]])\n",
    "X"
   ]
  },
  {
   "cell_type": "code",
   "execution_count": 4,
   "id": "fabea8bb",
   "metadata": {},
   "outputs": [
    {
     "data": {
      "text/plain": [
       "array([[ 25,   2,  -3, -23]])"
      ]
     },
     "execution_count": 4,
     "metadata": {},
     "output_type": "execute_result"
    }
   ],
   "source": [
    "X_Transpose = X.T\n",
    "X_Transpose"
   ]
  },
  {
   "cell_type": "markdown",
   "id": "de8f7383",
   "metadata": {},
   "source": [
    "#### 2) What  are the dimensions of [[42,4,7,99],[-99,-3,17,22]]"
   ]
  },
  {
   "cell_type": "code",
   "execution_count": 15,
   "id": "252ca8dc",
   "metadata": {},
   "outputs": [
    {
     "data": {
      "text/plain": [
       "array([[ 42,   4,   7,  99],\n",
       "       [-99,  -3,  17,  22]])"
      ]
     },
     "execution_count": 15,
     "metadata": {},
     "output_type": "execute_result"
    }
   ],
   "source": [
    "Y = np.array([[42,4,7,99],[-99,-3,17,22]])\n",
    "Y"
   ]
  },
  {
   "cell_type": "code",
   "execution_count": 16,
   "id": "a2170701",
   "metadata": {},
   "outputs": [
    {
     "data": {
      "text/plain": [
       "(2, 4)"
      ]
     },
     "execution_count": 16,
     "metadata": {},
     "output_type": "execute_result"
    }
   ],
   "source": [
    "Y.shape"
   ]
  },
  {
   "cell_type": "markdown",
   "id": "ed49d206",
   "metadata": {},
   "source": [
    "#### 3) What is the position of the element in Y whose value is 17"
   ]
  },
  {
   "cell_type": "code",
   "execution_count": 17,
   "id": "b07119dc",
   "metadata": {},
   "outputs": [
    {
     "data": {
      "text/plain": [
       "(array([1], dtype=int64), array([2], dtype=int64))"
      ]
     },
     "execution_count": 17,
     "metadata": {},
     "output_type": "execute_result"
    }
   ],
   "source": [
    "result = np.where(Y == 17)\n",
    "result\n"
   ]
  },
  {
   "cell_type": "markdown",
   "id": "38394c19",
   "metadata": {},
   "source": [
    "#### But here the indices start from 0 and in algebraic notation they start from 1, so we will have to add 1 to both the row and the column, thus the position is (1+1, 2+1) i.e. (2,3)."
   ]
  },
  {
   "cell_type": "code",
   "execution_count": null,
   "id": "8847725a",
   "metadata": {},
   "outputs": [],
   "source": []
  }
 ],
 "metadata": {
  "kernelspec": {
   "display_name": "Python 3 (ipykernel)",
   "language": "python",
   "name": "python3"
  },
  "language_info": {
   "codemirror_mode": {
    "name": "ipython",
    "version": 3
   },
   "file_extension": ".py",
   "mimetype": "text/x-python",
   "name": "python",
   "nbconvert_exporter": "python",
   "pygments_lexer": "ipython3",
   "version": "3.9.7"
  }
 },
 "nbformat": 4,
 "nbformat_minor": 5
}
