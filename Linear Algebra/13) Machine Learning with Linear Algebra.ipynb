{
 "cells": [
  {
   "cell_type": "markdown",
   "id": "0ed1db4b",
   "metadata": {},
   "source": [
    "### Singular Value Decomposition\n",
    "\n",
    "The singular value decomposition (SVD) is a way to decompose a matrix into constituent parts. It is a more general form of the eigendecomposition. While the eigendecomposition is limited to square matrices, the singular value decomposition can be applied to non-square matrices.\n",
    "\n",
    "SVD of matrix $A$ is: \n",
    "\n",
    "$A = UDV^T$\n",
    "\n",
    "Where: \n",
    "\n",
    "* $U$ is an orthogonal $m \\times m$ matrix; its columns are the **left-singular vectors** of $A$.\n",
    "* $V$ is an orthogonal $n \\times n$ matrix; its columns are the **right-singular vectors** of $A$.\n",
    "* $D$ is a diagonal $m \\times n$ matrix; elements along its diagonal are the **singular values** of $A$."
   ]
  },
  {
   "cell_type": "code",
   "execution_count": null,
   "id": "d4b424d8",
   "metadata": {},
   "outputs": [],
   "source": []
  }
 ],
 "metadata": {
  "kernelspec": {
   "display_name": "Python 3 (ipykernel)",
   "language": "python",
   "name": "python3"
  },
  "language_info": {
   "codemirror_mode": {
    "name": "ipython",
    "version": 3
   },
   "file_extension": ".py",
   "mimetype": "text/x-python",
   "name": "python",
   "nbconvert_exporter": "python",
   "pygments_lexer": "ipython3",
   "version": "3.9.7"
  }
 },
 "nbformat": 4,
 "nbformat_minor": 5
}
