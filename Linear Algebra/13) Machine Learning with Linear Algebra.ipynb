{
 "cells": [
  {
   "cell_type": "markdown",
   "id": "e0baa156",
   "metadata": {},
   "source": [
    "### Singular Value Decomposition\n",
    "\n",
    "The singular value decomposition (SVD) is a way to decompose a matrix into constituent parts. It is a more general form of the eigendecomposition. While the eigendecomposition is limited to square matrices, the singular value decomposition can be applied to non-square matrices.\n",
    "\n",
    "SVD of matrix $A$ is: \n",
    "\n",
    "$A = UDV^T$\n",
    "\n",
    "Where: \n",
    "\n",
    "* $U$ is an orthogonal $m \\times m$ matrix; its columns are the **left-singular vectors** of $A$.\n",
    "* $V$ is an orthogonal $n \\times n$ matrix; its columns are the **right-singular vectors** of $A$.\n",
    "* $D$ is a diagonal $m \\times n$ matrix; elements along its diagonal are the **singular values** of $A$."
   ]
  },
  {
   "cell_type": "markdown",
   "id": "9a8095f6",
   "metadata": {},
   "source": [
    "Specifically, the SVD decomposes any matrix A into an orthogonal matrix U, a diagonal matrix D, and another orthogonal matrix $UDV^T$. Singular Value Decomposition is the Eigen Value decomposition of $AA^T$."
   ]
  },
  {
   "cell_type": "markdown",
   "id": "a9bac13f",
   "metadata": {},
   "source": [
    "#### How this works:\n",
    "\n",
    "Let's look at $AA^T$:\n",
    "\n",
    "If $A = UDV^T$:\n",
    "\n",
    "$A^TA =  (VD^TU^T)  (UDV^T) $\n",
    "\n",
    "Since U is an orthogonal matrix, $U^TU = I$\n",
    "\n",
    "$A^TA =  V(D^TD)V^T$\n",
    "\n",
    "and since V is an orthogonal matrix, $V^T = V^{-1}$\n",
    "\n",
    "$A^TA =  V(D^TD)V^{-1}$\n",
    "\n",
    "\n",
    "Since $(D^TD)$ is also a diagonal matrix, this is of the form Eigen Decomposition.\n",
    "\n",
    "<b>Hence Singular value decomposition is a form of Eigen value decomposition that helps us in diagonalizing any matrix (square or non square)</b>"
   ]
  }
 ],
 "metadata": {
  "kernelspec": {
   "display_name": "Python 3 (ipykernel)",
   "language": "python",
   "name": "python3"
  },
  "language_info": {
   "codemirror_mode": {
    "name": "ipython",
    "version": 3
   },
   "file_extension": ".py",
   "mimetype": "text/x-python",
   "name": "python",
   "nbconvert_exporter": "python",
   "pygments_lexer": "ipython3",
   "version": "3.9.7"
  }
 },
 "nbformat": 4,
 "nbformat_minor": 5
}
