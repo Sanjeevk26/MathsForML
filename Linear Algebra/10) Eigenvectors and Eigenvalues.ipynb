{
 "cells": [
  {
   "cell_type": "markdown",
   "id": "250bedc3",
   "metadata": {},
   "source": [
    "### Eigenvectors:\n",
    "#### The vectors which do not change there axis after a multiplication operation is applied on them are know as Eigenvectors. For eg. For 2 matrices A and B, the vectors of A that do not change their direction or change their direction by 180 degrees are known as Eigenvectors of B.\n",
    "#### Note: Their length may differ after the multiplication operation but they remain on the same axis."
   ]
  },
  {
   "cell_type": "markdown",
   "id": "936e1340",
   "metadata": {},
   "source": [
    "### Eigenvalues:\n",
    "#### The number by which the Eigenvector's length gets scaled is known as the Eigenvalue. For eg. if the length of the Eigenvector gets doubled, the Eigenvalue is 2 and if it's length gets halved, the Eigenvalue is 0.5. <br>\n",
    "The Eigenvalue also depends on the direction of the Eigenvector, if the vector has been flipped, the Eigenvalue is <b><u>Negative</u></b>."
   ]
  },
  {
   "cell_type": "code",
   "execution_count": null,
   "id": "93533d83",
   "metadata": {},
   "outputs": [],
   "source": []
  }
 ],
 "metadata": {
  "kernelspec": {
   "display_name": "Python 3 (ipykernel)",
   "language": "python",
   "name": "python3"
  },
  "language_info": {
   "codemirror_mode": {
    "name": "ipython",
    "version": 3
   },
   "file_extension": ".py",
   "mimetype": "text/x-python",
   "name": "python",
   "nbconvert_exporter": "python",
   "pygments_lexer": "ipython3",
   "version": "3.9.7"
  }
 },
 "nbformat": 4,
 "nbformat_minor": 5
}
