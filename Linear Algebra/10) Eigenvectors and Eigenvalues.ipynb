{
 "cells": [
  {
   "cell_type": "markdown",
   "id": "53aecc57",
   "metadata": {},
   "source": [
    "### Eigenvectors:\n",
    "#### The vectors which do not change there axis after a multiplication operation is applied on them are know as Eigenvectors. For eg. For 2 matrices A and B, the vectors of A that do not change their direction or change their direction by 180 degrees are known as Eigenvectors of B.\n",
    "#### Note: Their length may differ after the multiplication operation but they remain on the same axis."
   ]
  },
  {
   "cell_type": "code",
   "execution_count": null,
   "id": "a634b078",
   "metadata": {},
   "outputs": [],
   "source": []
  }
 ],
 "metadata": {
  "kernelspec": {
   "display_name": "Python 3 (ipykernel)",
   "language": "python",
   "name": "python3"
  },
  "language_info": {
   "codemirror_mode": {
    "name": "ipython",
    "version": 3
   },
   "file_extension": ".py",
   "mimetype": "text/x-python",
   "name": "python",
   "nbconvert_exporter": "python",
   "pygments_lexer": "ipython3",
   "version": "3.9.7"
  }
 },
 "nbformat": 4,
 "nbformat_minor": 5
}
