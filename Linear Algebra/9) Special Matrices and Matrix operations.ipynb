{
 "cells": [
  {
   "cell_type": "markdown",
   "id": "0406fb3a",
   "metadata": {},
   "source": [
    "## Matrix Properties\n",
    "### Fronbenius Norm : It's quite similar to the L2 norm, the only difference being, it is calculated for a matrix instead of a vector. It is the square root of the summation of the squares of the elements present in the matrix."
   ]
  },
  {
   "cell_type": "code",
   "execution_count": 1,
   "id": "06f0bda8",
   "metadata": {},
   "outputs": [],
   "source": [
    "import numpy as np\n",
    "import matplotlib.pyplot as plt\n",
    "import torch\n",
    "import tensorflow as tf"
   ]
  },
  {
   "cell_type": "code",
   "execution_count": 2,
   "id": "4386f9f1",
   "metadata": {},
   "outputs": [
    {
     "data": {
      "text/plain": [
       "array([[1, 2],\n",
       "       [3, 4]])"
      ]
     },
     "execution_count": 2,
     "metadata": {},
     "output_type": "execute_result"
    }
   ],
   "source": [
    "X = np.array([[1, 2], [3, 4]])\n",
    "X"
   ]
  },
  {
   "cell_type": "code",
   "execution_count": 3,
   "id": "b20f1b46",
   "metadata": {},
   "outputs": [
    {
     "data": {
      "text/plain": [
       "5.477225575051661"
      ]
     },
     "execution_count": 3,
     "metadata": {},
     "output_type": "execute_result"
    }
   ],
   "source": [
    "(1**2 + 2**2 + 3**2 + 4**2)**(1/2)"
   ]
  },
  {
   "cell_type": "code",
   "execution_count": 4,
   "id": "449d8dca",
   "metadata": {},
   "outputs": [
    {
     "data": {
      "text/plain": [
       "5.477225575051661"
      ]
     },
     "execution_count": 4,
     "metadata": {},
     "output_type": "execute_result"
    }
   ],
   "source": [
    "np.linalg.norm(X) # same function as for vector L2 norm"
   ]
  },
  {
   "cell_type": "code",
   "execution_count": 5,
   "id": "0c72dcb3",
   "metadata": {},
   "outputs": [],
   "source": [
    "X_pt = torch.tensor([[1, 2], [3, 4.]]) # torch.norm() supports floats only"
   ]
  },
  {
   "cell_type": "code",
   "execution_count": 6,
   "id": "f8d5b3e3",
   "metadata": {},
   "outputs": [
    {
     "data": {
      "text/plain": [
       "tensor(5.4772)"
      ]
     },
     "execution_count": 6,
     "metadata": {},
     "output_type": "execute_result"
    }
   ],
   "source": [
    "torch.norm(X_pt)"
   ]
  },
  {
   "cell_type": "code",
   "execution_count": 7,
   "id": "e789ef19",
   "metadata": {},
   "outputs": [],
   "source": [
    "X_tf = tf.Variable([[1, 2], [3, 4.]]) # tf.norm() also supports floats only"
   ]
  },
  {
   "cell_type": "code",
   "execution_count": 8,
   "id": "964c90e1",
   "metadata": {},
   "outputs": [
    {
     "data": {
      "text/plain": [
       "<tf.Tensor: shape=(), dtype=float32, numpy=5.477226>"
      ]
     },
     "execution_count": 8,
     "metadata": {},
     "output_type": "execute_result"
    }
   ],
   "source": [
    "tf.norm(X_tf)"
   ]
  },
  {
   "cell_type": "code",
   "execution_count": null,
   "id": "545b2605",
   "metadata": {},
   "outputs": [],
   "source": []
  }
 ],
 "metadata": {
  "kernelspec": {
   "display_name": "Python 3 (ipykernel)",
   "language": "python",
   "name": "python3"
  },
  "language_info": {
   "codemirror_mode": {
    "name": "ipython",
    "version": 3
   },
   "file_extension": ".py",
   "mimetype": "text/x-python",
   "name": "python",
   "nbconvert_exporter": "python",
   "pygments_lexer": "ipython3",
   "version": "3.9.7"
  }
 },
 "nbformat": 4,
 "nbformat_minor": 5
}
