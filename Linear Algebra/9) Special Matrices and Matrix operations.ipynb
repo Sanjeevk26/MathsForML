{
 "cells": [
  {
   "cell_type": "markdown",
   "id": "867d6721",
   "metadata": {},
   "source": [
    "## Matrix Properties\n",
    "### Fronbenius Norm : It's quite similar to the L2 norm, the only difference being, it is calculated for a matrix instead of a vector. It is the square root of the summation of the squares of the elements present in the matrix."
   ]
  },
  {
   "cell_type": "code",
   "execution_count": 9,
   "id": "2c1e1802",
   "metadata": {},
   "outputs": [],
   "source": [
    "import numpy as np\n",
    "import matplotlib.pyplot as plt\n",
    "import torch\n",
    "import tensorflow as tf"
   ]
  },
  {
   "cell_type": "code",
   "execution_count": 2,
   "id": "acf61be6",
   "metadata": {},
   "outputs": [
    {
     "data": {
      "text/plain": [
       "array([[1, 2],\n",
       "       [3, 4]])"
      ]
     },
     "execution_count": 2,
     "metadata": {},
     "output_type": "execute_result"
    }
   ],
   "source": [
    "X = np.array([[1, 2], [3, 4]])\n",
    "X"
   ]
  },
  {
   "cell_type": "code",
   "execution_count": 3,
   "id": "66cc28b7",
   "metadata": {},
   "outputs": [
    {
     "data": {
      "text/plain": [
       "5.477225575051661"
      ]
     },
     "execution_count": 3,
     "metadata": {},
     "output_type": "execute_result"
    }
   ],
   "source": [
    "(1**2 + 2**2 + 3**2 + 4**2)**(1/2)"
   ]
  },
  {
   "cell_type": "code",
   "execution_count": 4,
   "id": "d39cbad2",
   "metadata": {},
   "outputs": [
    {
     "data": {
      "text/plain": [
       "5.477225575051661"
      ]
     },
     "execution_count": 4,
     "metadata": {},
     "output_type": "execute_result"
    }
   ],
   "source": [
    "np.linalg.norm(X) # same function as for vector L2 norm"
   ]
  },
  {
   "cell_type": "code",
   "execution_count": 5,
   "id": "f1ebe920",
   "metadata": {},
   "outputs": [],
   "source": [
    "X_pt = torch.tensor([[1, 2], [3, 4.]]) # torch.norm() supports floats only"
   ]
  },
  {
   "cell_type": "code",
   "execution_count": 6,
   "id": "6f0fb88b",
   "metadata": {},
   "outputs": [
    {
     "data": {
      "text/plain": [
       "tensor(5.4772)"
      ]
     },
     "execution_count": 6,
     "metadata": {},
     "output_type": "execute_result"
    }
   ],
   "source": [
    "torch.norm(X_pt)"
   ]
  },
  {
   "cell_type": "code",
   "execution_count": 7,
   "id": "87ed1045",
   "metadata": {},
   "outputs": [],
   "source": [
    "X_tf = tf.Variable([[1, 2], [3, 4.]]) # tf.norm() also supports floats only"
   ]
  },
  {
   "cell_type": "code",
   "execution_count": 8,
   "id": "72dc2857",
   "metadata": {},
   "outputs": [
    {
     "data": {
      "text/plain": [
       "<tf.Tensor: shape=(), dtype=float32, numpy=5.477226>"
      ]
     },
     "execution_count": 8,
     "metadata": {},
     "output_type": "execute_result"
    }
   ],
   "source": [
    "tf.norm(X_tf)"
   ]
  },
  {
   "cell_type": "markdown",
   "id": "92cbded4",
   "metadata": {},
   "source": [
    "### Matrix Inversion\n",
    "\n",
    "#### The inverse of A is A^-1 only when AA^-1 = A^-1A = I.\n",
    "#### For an equation Ax = B, A = x^-1B.\n",
    "#### For a  2x2 matrix ([a, b], [c,d]), swap the positions of a and d, put negatives in front of b and c, and divide everything by the determinant (ad-bc)."
   ]
  },
  {
   "cell_type": "code",
   "execution_count": 10,
   "id": "39672c3e",
   "metadata": {},
   "outputs": [
    {
     "data": {
      "text/plain": [
       "array([[ 4,  2],\n",
       "       [-5, -3]])"
      ]
     },
     "execution_count": 10,
     "metadata": {},
     "output_type": "execute_result"
    }
   ],
   "source": [
    "X = np.array([[4, 2], [-5, -3]])\n",
    "X"
   ]
  },
  {
   "cell_type": "code",
   "execution_count": 11,
   "id": "496b1bcd",
   "metadata": {},
   "outputs": [
    {
     "data": {
      "text/plain": [
       "array([[ 1.5,  1. ],\n",
       "       [-2.5, -2. ]])"
      ]
     },
     "execution_count": 11,
     "metadata": {},
     "output_type": "execute_result"
    }
   ],
   "source": [
    "Xinv = np.linalg.inv(X)\n",
    "Xinv"
   ]
  },
  {
   "cell_type": "code",
   "execution_count": 12,
   "id": "567408b8",
   "metadata": {},
   "outputs": [
    {
     "data": {
      "text/plain": [
       "array([[1.00000000e+00, 0.00000000e+00],\n",
       "       [1.77635684e-15, 1.00000000e+00]])"
      ]
     },
     "execution_count": 12,
     "metadata": {},
     "output_type": "execute_result"
    }
   ],
   "source": [
    "np.dot(Xinv, X)"
   ]
  },
  {
   "cell_type": "code",
   "execution_count": 13,
   "id": "4344b5df",
   "metadata": {},
   "outputs": [
    {
     "data": {
      "text/plain": [
       "array([ 4, -7])"
      ]
     },
     "execution_count": 13,
     "metadata": {},
     "output_type": "execute_result"
    }
   ],
   "source": [
    "y = np.array([4, -7])\n",
    "y"
   ]
  },
  {
   "cell_type": "code",
   "execution_count": 14,
   "id": "f3b18dad",
   "metadata": {},
   "outputs": [
    {
     "data": {
      "text/plain": [
       "array([-1.,  4.])"
      ]
     },
     "execution_count": 14,
     "metadata": {},
     "output_type": "execute_result"
    }
   ],
   "source": [
    "w = np.dot(Xinv, y)\n",
    "w"
   ]
  },
  {
   "cell_type": "markdown",
   "id": "d3f31b07",
   "metadata": {},
   "source": [
    "Show that $y = Xw$: "
   ]
  },
  {
   "cell_type": "code",
   "execution_count": 15,
   "id": "96b7f641",
   "metadata": {},
   "outputs": [
    {
     "data": {
      "text/plain": [
       "array([ 4., -7.])"
      ]
     },
     "execution_count": 15,
     "metadata": {},
     "output_type": "execute_result"
    }
   ],
   "source": [
    "np.dot(X, w)"
   ]
  },
  {
   "cell_type": "code",
   "execution_count": 19,
   "id": "dd036b68",
   "metadata": {},
   "outputs": [
    {
     "data": {
      "text/plain": [
       "tensor([[ 4.,  2.],\n",
       "        [-5., -3.]])"
      ]
     },
     "execution_count": 19,
     "metadata": {},
     "output_type": "execute_result"
    }
   ],
   "source": [
    "X_pt = torch.tensor([[4, 2], [-5, -3.]])\n",
    "X_pt"
   ]
  },
  {
   "cell_type": "code",
   "execution_count": 22,
   "id": "b3d12bfe",
   "metadata": {},
   "outputs": [
    {
     "data": {
      "text/plain": [
       "tensor([[ 1.5000,  1.0000],\n",
       "        [-2.5000, -2.0000]])"
      ]
     },
     "execution_count": 22,
     "metadata": {},
     "output_type": "execute_result"
    }
   ],
   "source": [
    "X_pt_inv = torch.inverse(torch.tensor([[4, 2], [-5, -3.]])) # float type\n",
    "X_pt_inv"
   ]
  },
  {
   "cell_type": "code",
   "execution_count": 23,
   "id": "cd868e85",
   "metadata": {},
   "outputs": [
    {
     "data": {
      "text/plain": [
       "tensor([[ 1.0000e+00,  0.0000e+00],\n",
       "        [-4.7684e-07,  1.0000e+00]])"
      ]
     },
     "execution_count": 23,
     "metadata": {},
     "output_type": "execute_result"
    }
   ],
   "source": [
    "torch.matmul(X_pt, X_pt_inv) # like np.dot(), automatically infers dims in order to perform dot product, matvec, or matrix multiplication"
   ]
  },
  {
   "cell_type": "code",
   "execution_count": 27,
   "id": "383cd9e1",
   "metadata": {},
   "outputs": [
    {
     "data": {
      "text/plain": [
       "tensor([ 4., -7.])"
      ]
     },
     "execution_count": 27,
     "metadata": {},
     "output_type": "execute_result"
    }
   ],
   "source": [
    "y_pt = torch.tensor([4, -7.])\n",
    "y_pt"
   ]
  },
  {
   "cell_type": "code",
   "execution_count": 29,
   "id": "93486435",
   "metadata": {},
   "outputs": [
    {
     "data": {
      "text/plain": [
       "tensor([-1.,  4.])"
      ]
     },
     "execution_count": 29,
     "metadata": {},
     "output_type": "execute_result"
    }
   ],
   "source": [
    "w = torch.matmul(X_pt_inv, y_pt)\n",
    "w"
   ]
  },
  {
   "cell_type": "code",
   "execution_count": 31,
   "id": "a85e6a5a",
   "metadata": {},
   "outputs": [
    {
     "data": {
      "text/plain": [
       "<tf.Variable 'Variable:0' shape=(2, 2) dtype=float32, numpy=\n",
       "array([[ 4.,  2.],\n",
       "       [-5., -3.]], dtype=float32)>"
      ]
     },
     "execution_count": 31,
     "metadata": {},
     "output_type": "execute_result"
    }
   ],
   "source": [
    "X_tf = tf.Variable([[4, 2], [-5, -3.]])\n",
    "X_tf"
   ]
  },
  {
   "cell_type": "code",
   "execution_count": 33,
   "id": "1ef19957",
   "metadata": {},
   "outputs": [
    {
     "data": {
      "text/plain": [
       "<tf.Tensor: shape=(2, 2), dtype=float32, numpy=\n",
       "array([[ 1.4999998,  0.9999998],\n",
       "       [-2.4999995, -1.9999996]], dtype=float32)>"
      ]
     },
     "execution_count": 33,
     "metadata": {},
     "output_type": "execute_result"
    }
   ],
   "source": [
    "X_tf_inv = tf.linalg.inv(X_tf) # also float\n",
    "X_tf_inv"
   ]
  },
  {
   "cell_type": "code",
   "execution_count": 35,
   "id": "eeac353f",
   "metadata": {},
   "outputs": [
    {
     "data": {
      "text/plain": [
       "<tf.Tensor: shape=(2, 2), dtype=float32, numpy=\n",
       "array([[ 1.0000000e+00,  0.0000000e+00],\n",
       "       [-4.7683716e-07,  1.0000000e+00]], dtype=float32)>"
      ]
     },
     "execution_count": 35,
     "metadata": {},
     "output_type": "execute_result"
    }
   ],
   "source": [
    "tf.matmul(X_tf, X_tf_inv)"
   ]
  },
  {
   "cell_type": "code",
   "execution_count": 36,
   "id": "5a4c8a31",
   "metadata": {},
   "outputs": [
    {
     "data": {
      "text/plain": [
       "<tf.Variable 'Variable:0' shape=(2,) dtype=float32, numpy=array([ 4., -7.], dtype=float32)>"
      ]
     },
     "execution_count": 36,
     "metadata": {},
     "output_type": "execute_result"
    }
   ],
   "source": [
    "y_tf = tf.Variable([4, -7.])\n",
    "y_tf"
   ]
  },
  {
   "cell_type": "code",
   "execution_count": 39,
   "id": "090e8bb1",
   "metadata": {},
   "outputs": [
    {
     "data": {
      "text/plain": [
       "<tf.Tensor: shape=(2,), dtype=float32, numpy=array([-0.9999995,  3.999999 ], dtype=float32)>"
      ]
     },
     "execution_count": 39,
     "metadata": {},
     "output_type": "execute_result"
    }
   ],
   "source": [
    "tf.linalg.matvec(X_tf_inv, y_tf)"
   ]
  },
  {
   "cell_type": "markdown",
   "id": "ea172fc9",
   "metadata": {},
   "source": [
    "#### Matrix inverse can be calculated only if the matrix is not Singular i.e. all the columns of the matrix are linearly independent.\n",
    "#### If the matrix is Singular the determinant of the matrix becomes 0, and we can't divide anything by 0, hence matrix can't be calculated."
   ]
  },
  {
   "cell_type": "markdown",
   "id": "706704ad",
   "metadata": {},
   "source": [
    "### Matrix Inversion Where No Solution"
   ]
  },
  {
   "cell_type": "code",
   "execution_count": 40,
   "id": "5a8998bf",
   "metadata": {},
   "outputs": [
    {
     "data": {
      "text/plain": [
       "array([[-4,  1],\n",
       "       [-8,  2]])"
      ]
     },
     "execution_count": 40,
     "metadata": {},
     "output_type": "execute_result"
    }
   ],
   "source": [
    "X = np.array([[-4, 1], [-8, 2]])\n",
    "X"
   ]
  },
  {
   "cell_type": "code",
   "execution_count": 44,
   "id": "fad4d90a",
   "metadata": {},
   "outputs": [],
   "source": [
    "# Uncommenting the following line results in a \"singular matrix\" error\n",
    "# Xinv = np.linalg.inv(X)"
   ]
  },
  {
   "cell_type": "markdown",
   "id": "60d2548d",
   "metadata": {},
   "source": [
    "### Diagonal Matrices\n",
    "\n",
    "#### Non zero elements along the main diagonal, zeroes everywhere else. Identity matrix is an example of a diagonal matrix.\n",
    "1) If the diagonal matrix is square diag(x) represents a vector x which contains all the elements of the main diagonal.<br>\n",
    "2) Diagonal matrices are computationally very efficient. diag(x)y = Dot product of x and y. <br>\n",
    "3) None of the elements on the main diagonal can be 0. <br>\n",
    "4) Inverse of diag(x) = $diag[1/x1, 1/x2 ..... 1/xn]^T$"
   ]
  },
  {
   "cell_type": "code",
   "execution_count": 49,
   "id": "9df8bc8e",
   "metadata": {},
   "outputs": [
    {
     "data": {
      "text/plain": [
       "array([[3, 0],\n",
       "       [0, 4]])"
      ]
     },
     "execution_count": 49,
     "metadata": {},
     "output_type": "execute_result"
    }
   ],
   "source": [
    "x = np.array([[3, 0], [0, 4]])\n",
    "x"
   ]
  },
  {
   "cell_type": "code",
   "execution_count": 51,
   "id": "69d1b8fd",
   "metadata": {},
   "outputs": [
    {
     "data": {
      "text/plain": [
       "array([[5, 6]])"
      ]
     },
     "execution_count": 51,
     "metadata": {},
     "output_type": "execute_result"
    }
   ],
   "source": [
    "y = np.array([[5, 6]])\n",
    "y"
   ]
  },
  {
   "cell_type": "code",
   "execution_count": 53,
   "id": "de8a0196",
   "metadata": {},
   "outputs": [
    {
     "data": {
      "text/plain": [
       "array([3, 4])"
      ]
     },
     "execution_count": 53,
     "metadata": {},
     "output_type": "execute_result"
    }
   ],
   "source": [
    "np.diagonal(x)"
   ]
  },
  {
   "cell_type": "code",
   "execution_count": 64,
   "id": "56add26c",
   "metadata": {},
   "outputs": [
    {
     "data": {
      "text/plain": [
       "array([[39]])"
      ]
     },
     "execution_count": 64,
     "metadata": {},
     "output_type": "execute_result"
    }
   ],
   "source": [
    "np.dot(np.array([np.diagonal(x)]), y.T)"
   ]
  },
  {
   "cell_type": "code",
   "execution_count": 66,
   "id": "bea34d6f",
   "metadata": {},
   "outputs": [
    {
     "data": {
      "text/plain": [
       "array([[0.33333333, 0.        ],\n",
       "       [0.        , 0.25      ]])"
      ]
     },
     "execution_count": 66,
     "metadata": {},
     "output_type": "execute_result"
    }
   ],
   "source": [
    "Xinv = np.linalg.inv(x)\n",
    "Xinv"
   ]
  },
  {
   "cell_type": "code",
   "execution_count": 68,
   "id": "e5964815",
   "metadata": {},
   "outputs": [
    {
     "data": {
      "text/plain": [
       "array([[0.33333333, 0.        ],\n",
       "       [0.        , 0.25      ]])"
      ]
     },
     "execution_count": 68,
     "metadata": {},
     "output_type": "execute_result"
    }
   ],
   "source": [
    "Xinv2 = np.array([[1/3, 0], [0, 1/4]]).T\n",
    "Xinv2"
   ]
  },
  {
   "cell_type": "code",
   "execution_count": 69,
   "id": "29135ab5",
   "metadata": {},
   "outputs": [
    {
     "data": {
      "text/plain": [
       "array([[ True,  True],\n",
       "       [ True,  True]])"
      ]
     },
     "execution_count": 69,
     "metadata": {},
     "output_type": "execute_result"
    }
   ],
   "source": [
    "Xinv == Xinv2"
   ]
  },
  {
   "cell_type": "code",
   "execution_count": null,
   "id": "11c5ff1d",
   "metadata": {},
   "outputs": [],
   "source": []
  }
 ],
 "metadata": {
  "kernelspec": {
   "display_name": "Python 3 (ipykernel)",
   "language": "python",
   "name": "python3"
  },
  "language_info": {
   "codemirror_mode": {
    "name": "ipython",
    "version": 3
   },
   "file_extension": ".py",
   "mimetype": "text/x-python",
   "name": "python",
   "nbconvert_exporter": "python",
   "pygments_lexer": "ipython3",
   "version": "3.9.7"
  }
 },
 "nbformat": 4,
 "nbformat_minor": 5
}
