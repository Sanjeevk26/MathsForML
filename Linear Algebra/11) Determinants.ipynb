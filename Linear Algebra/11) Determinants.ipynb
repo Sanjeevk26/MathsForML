{
 "cells": [
  {
   "cell_type": "markdown",
   "id": "d6d84034",
   "metadata": {},
   "source": [
    "### Determinants:\n",
    "\n",
    "1) Help us in mapping a square matrix with a scalar.<br>\n",
    "2) They determine whether a square matrix can be inverted or not."
   ]
  },
  {
   "cell_type": "markdown",
   "id": "2c044b79",
   "metadata": {},
   "source": [
    "#### For a matrix X, determinant of X is denoted by det(X)\n",
    "* If the determinant of a matrix is 0, it cannot be inverted.\n",
    "* The matrices having determinant 0 are called singular matrices. Such matrices contain linearly dependent columns."
   ]
  },
  {
   "cell_type": "markdown",
   "id": "7c555536",
   "metadata": {},
   "source": [
    "### 2x2 Matrix Determinants"
   ]
  },
  {
   "cell_type": "code",
   "execution_count": 2,
   "id": "5b27c998",
   "metadata": {},
   "outputs": [],
   "source": [
    "import numpy as np\n",
    "import torch"
   ]
  },
  {
   "cell_type": "code",
   "execution_count": 3,
   "id": "19b9e1dd",
   "metadata": {},
   "outputs": [
    {
     "data": {
      "text/plain": [
       "array([[ 4,  2],\n",
       "       [-5, -3]])"
      ]
     },
     "execution_count": 3,
     "metadata": {},
     "output_type": "execute_result"
    }
   ],
   "source": [
    "X = np.array([[4, 2], [-5, -3]])\n",
    "X"
   ]
  },
  {
   "cell_type": "code",
   "execution_count": 4,
   "id": "9d9d32bc",
   "metadata": {},
   "outputs": [
    {
     "data": {
      "text/plain": [
       "-2.0000000000000004"
      ]
     },
     "execution_count": 4,
     "metadata": {},
     "output_type": "execute_result"
    }
   ],
   "source": [
    "np.linalg.det(X)"
   ]
  },
  {
   "cell_type": "code",
   "execution_count": 5,
   "id": "a8ee7429",
   "metadata": {},
   "outputs": [
    {
     "data": {
      "text/plain": [
       "array([[-4,  1],\n",
       "       [-8,  2]])"
      ]
     },
     "execution_count": 5,
     "metadata": {},
     "output_type": "execute_result"
    }
   ],
   "source": [
    "N = np.array([[-4, 1], [-8, 2]])\n",
    "N"
   ]
  },
  {
   "cell_type": "code",
   "execution_count": 6,
   "id": "24da79c3",
   "metadata": {},
   "outputs": [
    {
     "data": {
      "text/plain": [
       "0.0"
      ]
     },
     "execution_count": 6,
     "metadata": {},
     "output_type": "execute_result"
    }
   ],
   "source": [
    "np.linalg.det(N)"
   ]
  },
  {
   "cell_type": "code",
   "execution_count": 7,
   "id": "9f403c31",
   "metadata": {},
   "outputs": [],
   "source": [
    "# Uncommenting the following line results in a \"singular matrix\" error\n",
    "# Ninv = np.linalg.inv(N)"
   ]
  },
  {
   "cell_type": "code",
   "execution_count": 8,
   "id": "215181b8",
   "metadata": {},
   "outputs": [],
   "source": [
    "N = torch.tensor([[-4, 1], [-8, 2.]]) # must use float not int"
   ]
  },
  {
   "cell_type": "code",
   "execution_count": 9,
   "id": "bfefa931",
   "metadata": {},
   "outputs": [
    {
     "data": {
      "text/plain": [
       "tensor(0.)"
      ]
     },
     "execution_count": 9,
     "metadata": {},
     "output_type": "execute_result"
    }
   ],
   "source": [
    "torch.det(N) "
   ]
  },
  {
   "cell_type": "markdown",
   "id": "7b515381",
   "metadata": {},
   "source": [
    "#### For a matrix [[a, b], [c, d]], the determinant is given by ad - bc, let's confirm this with an example."
   ]
  },
  {
   "cell_type": "code",
   "execution_count": 10,
   "id": "48a5d7bf",
   "metadata": {},
   "outputs": [
    {
     "data": {
      "text/plain": [
       "array([[ 4,  2],\n",
       "       [-5, -3]])"
      ]
     },
     "execution_count": 10,
     "metadata": {},
     "output_type": "execute_result"
    }
   ],
   "source": [
    "X = np.array([[4, 2], [-5, -3]])\n",
    "X"
   ]
  },
  {
   "cell_type": "code",
   "execution_count": 11,
   "id": "0c895da7",
   "metadata": {},
   "outputs": [
    {
     "data": {
      "text/plain": [
       "True"
      ]
     },
     "execution_count": 11,
     "metadata": {},
     "output_type": "execute_result"
    }
   ],
   "source": [
    "round(np.linalg.det(X)) == (-3 * 4) - (-5 * 2)"
   ]
  },
  {
   "cell_type": "markdown",
   "id": "4ceb753c",
   "metadata": {},
   "source": [
    "### Generalizing Determinants"
   ]
  },
  {
   "cell_type": "code",
   "execution_count": 12,
   "id": "af508ccf",
   "metadata": {},
   "outputs": [
    {
     "data": {
      "text/plain": [
       "array([[ 1,  2,  4],\n",
       "       [ 2, -1,  3],\n",
       "       [ 0,  5,  1]])"
      ]
     },
     "execution_count": 12,
     "metadata": {},
     "output_type": "execute_result"
    }
   ],
   "source": [
    "X = np.array([[1, 2, 4], [2, -1, 3], [0, 5, 1]])\n",
    "X"
   ]
  },
  {
   "cell_type": "code",
   "execution_count": 13,
   "id": "c83a7015",
   "metadata": {},
   "outputs": [
    {
     "data": {
      "text/plain": [
       "19.999999999999996"
      ]
     },
     "execution_count": 13,
     "metadata": {},
     "output_type": "execute_result"
    }
   ],
   "source": [
    "np.linalg.det(X)"
   ]
  },
  {
   "cell_type": "code",
   "execution_count": 14,
   "id": "eed640bf",
   "metadata": {},
   "outputs": [
    {
     "data": {
      "text/plain": [
       "True"
      ]
     },
     "execution_count": 14,
     "metadata": {},
     "output_type": "execute_result"
    }
   ],
   "source": [
    "round(np.linalg.det(X)) == 1 * ((1 * -1) - (5 * 3)) - 2 * ((1 * 2) - (0 * 3)) + 4 * ((5 * 2) - (0 * -1))"
   ]
  },
  {
   "cell_type": "markdown",
   "id": "2e023d20",
   "metadata": {},
   "source": [
    "#### Similarly determinant of any matrix can be calculated, given the matrix is square."
   ]
  },
  {
   "cell_type": "markdown",
   "id": "1a0f9a9d",
   "metadata": {},
   "source": [
    "### Exercises:\n",
    "1) Determinant of [[25, 2],[3, 4]], and whether it is a singular matrix"
   ]
  },
  {
   "cell_type": "code",
   "execution_count": 16,
   "id": "cbd140a2",
   "metadata": {},
   "outputs": [
    {
     "data": {
      "text/plain": [
       "array([[25,  2],\n",
       "       [ 3,  4]])"
      ]
     },
     "execution_count": 16,
     "metadata": {},
     "output_type": "execute_result"
    }
   ],
   "source": [
    "X = np.array([[25, 2], [3, 4]])\n",
    "X"
   ]
  },
  {
   "cell_type": "code",
   "execution_count": 18,
   "id": "0a67e2f6",
   "metadata": {},
   "outputs": [
    {
     "data": {
      "text/plain": [
       "94.0"
      ]
     },
     "execution_count": 18,
     "metadata": {},
     "output_type": "execute_result"
    }
   ],
   "source": [
    "det_X = np.linalg.det(X)\n",
    "det_X"
   ]
  },
  {
   "cell_type": "markdown",
   "id": "b2b25d32",
   "metadata": {},
   "source": [
    "det(X) is not 0, hence the matrix isn't singular."
   ]
  },
  {
   "cell_type": "code",
   "execution_count": 19,
   "id": "46d47a64",
   "metadata": {},
   "outputs": [
    {
     "data": {
      "text/plain": [
       "array([[-2,  0],\n",
       "       [ 0, -2]])"
      ]
     },
     "execution_count": 19,
     "metadata": {},
     "output_type": "execute_result"
    }
   ],
   "source": [
    "X = np.array([[-2, 0], [0, -2]])\n",
    "X"
   ]
  },
  {
   "cell_type": "code",
   "execution_count": 20,
   "id": "afad4107",
   "metadata": {},
   "outputs": [
    {
     "data": {
      "text/plain": [
       "4.0"
      ]
     },
     "execution_count": 20,
     "metadata": {},
     "output_type": "execute_result"
    }
   ],
   "source": [
    "det_X = np.linalg.det(X)\n",
    "det_X"
   ]
  },
  {
   "cell_type": "markdown",
   "id": "994592c8",
   "metadata": {},
   "source": [
    "det(X) is not 0, hence the matrix isn't singular."
   ]
  },
  {
   "cell_type": "code",
   "execution_count": 22,
   "id": "ffa7e00f",
   "metadata": {},
   "outputs": [
    {
     "data": {
      "text/plain": [
       "array([[ 2,  1, -3],\n",
       "       [ 4, -5,  2],\n",
       "       [ 0, -1,  3]])"
      ]
     },
     "execution_count": 22,
     "metadata": {},
     "output_type": "execute_result"
    }
   ],
   "source": [
    "X = np.array([[2, 1, -3], [4, -5, 2], [0, -1, 3]])\n",
    "X"
   ]
  },
  {
   "cell_type": "code",
   "execution_count": 23,
   "id": "a11e0a22",
   "metadata": {},
   "outputs": [
    {
     "data": {
      "text/plain": [
       "-26.000000000000014"
      ]
     },
     "execution_count": 23,
     "metadata": {},
     "output_type": "execute_result"
    }
   ],
   "source": [
    "det_X = np.linalg.det(X)\n",
    "det_X"
   ]
  },
  {
   "cell_type": "markdown",
   "id": "4a3cf4d4",
   "metadata": {},
   "source": [
    "det(X) is not 0, hence the matrix isn't singular."
   ]
  },
  {
   "cell_type": "markdown",
   "id": "c5987fa9",
   "metadata": {},
   "source": [
    "### Determinants & Eigenvalues"
   ]
  },
  {
   "cell_type": "markdown",
   "id": "9667c30f",
   "metadata": {},
   "source": [
    "#### The determinant is the product of all the eigenvalues. This is because the determinant of X represents the change in area/volume when X is applied to some other vector/matrix/tensor. For eg. In a 2X2 matrix, the Eigenvalues reprsent how much theEigenvectors have scaled, in each dimension and determinant represents the how much has the area scaled. Thus, the Determinant is equal to the product of all Eigenvalues. Similarly in 3 dimensions, the determinant represents the change in Volume."
   ]
  },
  {
   "cell_type": "code",
   "execution_count": 24,
   "id": "fb019eef",
   "metadata": {},
   "outputs": [
    {
     "data": {
      "text/plain": [
       "array([-5.10785648,  1.35711931,  3.75073717])"
      ]
     },
     "execution_count": 24,
     "metadata": {},
     "output_type": "execute_result"
    }
   ],
   "source": [
    "lambdas, V = np.linalg.eig(X)\n",
    "lambdas"
   ]
  },
  {
   "cell_type": "code",
   "execution_count": 28,
   "id": "893814f9",
   "metadata": {},
   "outputs": [
    {
     "data": {
      "text/plain": [
       "-26"
      ]
     },
     "execution_count": 28,
     "metadata": {},
     "output_type": "execute_result"
    }
   ],
   "source": [
    "round(np.product(lambdas))"
   ]
  },
  {
   "cell_type": "code",
   "execution_count": 30,
   "id": "c1e10c81",
   "metadata": {},
   "outputs": [
    {
     "data": {
      "text/plain": [
       "-26"
      ]
     },
     "execution_count": 30,
     "metadata": {},
     "output_type": "execute_result"
    }
   ],
   "source": [
    "round(np.linalg.det(X))"
   ]
  },
  {
   "cell_type": "code",
   "execution_count": null,
   "id": "61c0d1e3",
   "metadata": {},
   "outputs": [],
   "source": []
  }
 ],
 "metadata": {
  "kernelspec": {
   "display_name": "Python 3 (ipykernel)",
   "language": "python",
   "name": "python3"
  },
  "language_info": {
   "codemirror_mode": {
    "name": "ipython",
    "version": 3
   },
   "file_extension": ".py",
   "mimetype": "text/x-python",
   "name": "python",
   "nbconvert_exporter": "python",
   "pygments_lexer": "ipython3",
   "version": "3.9.7"
  }
 },
 "nbformat": 4,
 "nbformat_minor": 5
}
