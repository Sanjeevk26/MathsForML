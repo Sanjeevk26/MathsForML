{
 "cells": [
  {
   "cell_type": "markdown",
   "id": "65ab973e",
   "metadata": {},
   "source": [
    "### Determinants:\n",
    "\n",
    "1) Help us in mapping a square matrix with a scalar.<br>\n",
    "2) They determine whether a square matrix can be inverted or not."
   ]
  },
  {
   "cell_type": "markdown",
   "id": "ca107984",
   "metadata": {},
   "source": [
    "#### For a matrix X, determinant of X is denoted by det(X)\n",
    "* If the determinant of a matrix is 0, it cannot be inverted.\n",
    "* The matrices having determinant 0 are called singular matrices. Such matrices contain linearly dependent columns."
   ]
  },
  {
   "cell_type": "markdown",
   "id": "a145aaf0",
   "metadata": {},
   "source": [
    "### 2x2 Matrix Determinants"
   ]
  },
  {
   "cell_type": "code",
   "execution_count": 1,
   "id": "105dd12e",
   "metadata": {},
   "outputs": [],
   "source": [
    "import numpy as np\n",
    "import torch"
   ]
  },
  {
   "cell_type": "code",
   "execution_count": null,
   "id": "b461ae83",
   "metadata": {},
   "outputs": [],
   "source": []
  }
 ],
 "metadata": {
  "kernelspec": {
   "display_name": "Python 3 (ipykernel)",
   "language": "python",
   "name": "python3"
  },
  "language_info": {
   "codemirror_mode": {
    "name": "ipython",
    "version": 3
   },
   "file_extension": ".py",
   "mimetype": "text/x-python",
   "name": "python",
   "nbconvert_exporter": "python",
   "pygments_lexer": "ipython3",
   "version": "3.9.7"
  }
 },
 "nbformat": 4,
 "nbformat_minor": 5
}
