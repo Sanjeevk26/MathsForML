{
 "cells": [
  {
   "cell_type": "markdown",
   "id": "d6d84034",
   "metadata": {},
   "source": [
    "### Determinants:\n",
    "\n",
    "1) Help us in mapping a square matrix with a scalar.<br>\n",
    "2) They determine whether a square matrix can be inverted or not."
   ]
  },
  {
   "cell_type": "markdown",
   "id": "2c044b79",
   "metadata": {},
   "source": [
    "#### For a matrix X, determinant of X is denoted by det(X)\n",
    "* If the determinant of a matrix is 0, it cannot be inverted.\n",
    "* The matrices having determinant 0 are called singular matrices. Such matrices contain linearly dependent columns."
   ]
  },
  {
   "cell_type": "markdown",
   "id": "7c555536",
   "metadata": {},
   "source": [
    "### 2x2 Matrix Determinants"
   ]
  },
  {
   "cell_type": "code",
   "execution_count": 38,
   "id": "5b27c998",
   "metadata": {},
   "outputs": [],
   "source": [
    "import numpy as np\n",
    "import torch\n",
    "import matplotlib.pyplot as plt"
   ]
  },
  {
   "cell_type": "code",
   "execution_count": 3,
   "id": "19b9e1dd",
   "metadata": {},
   "outputs": [
    {
     "data": {
      "text/plain": [
       "array([[ 4,  2],\n",
       "       [-5, -3]])"
      ]
     },
     "execution_count": 3,
     "metadata": {},
     "output_type": "execute_result"
    }
   ],
   "source": [
    "X = np.array([[4, 2], [-5, -3]])\n",
    "X"
   ]
  },
  {
   "cell_type": "code",
   "execution_count": 4,
   "id": "9d9d32bc",
   "metadata": {},
   "outputs": [
    {
     "data": {
      "text/plain": [
       "-2.0000000000000004"
      ]
     },
     "execution_count": 4,
     "metadata": {},
     "output_type": "execute_result"
    }
   ],
   "source": [
    "np.linalg.det(X)"
   ]
  },
  {
   "cell_type": "code",
   "execution_count": 5,
   "id": "a8ee7429",
   "metadata": {},
   "outputs": [
    {
     "data": {
      "text/plain": [
       "array([[-4,  1],\n",
       "       [-8,  2]])"
      ]
     },
     "execution_count": 5,
     "metadata": {},
     "output_type": "execute_result"
    }
   ],
   "source": [
    "N = np.array([[-4, 1], [-8, 2]])\n",
    "N"
   ]
  },
  {
   "cell_type": "code",
   "execution_count": 6,
   "id": "24da79c3",
   "metadata": {},
   "outputs": [
    {
     "data": {
      "text/plain": [
       "0.0"
      ]
     },
     "execution_count": 6,
     "metadata": {},
     "output_type": "execute_result"
    }
   ],
   "source": [
    "np.linalg.det(N)"
   ]
  },
  {
   "cell_type": "code",
   "execution_count": 7,
   "id": "9f403c31",
   "metadata": {},
   "outputs": [],
   "source": [
    "# Uncommenting the following line results in a \"singular matrix\" error\n",
    "# Ninv = np.linalg.inv(N)"
   ]
  },
  {
   "cell_type": "code",
   "execution_count": 8,
   "id": "215181b8",
   "metadata": {},
   "outputs": [],
   "source": [
    "N = torch.tensor([[-4, 1], [-8, 2.]]) # must use float not int"
   ]
  },
  {
   "cell_type": "code",
   "execution_count": 9,
   "id": "bfefa931",
   "metadata": {},
   "outputs": [
    {
     "data": {
      "text/plain": [
       "tensor(0.)"
      ]
     },
     "execution_count": 9,
     "metadata": {},
     "output_type": "execute_result"
    }
   ],
   "source": [
    "torch.det(N) "
   ]
  },
  {
   "cell_type": "markdown",
   "id": "7b515381",
   "metadata": {},
   "source": [
    "#### For a matrix [[a, b], [c, d]], the determinant is given by ad - bc, let's confirm this with an example."
   ]
  },
  {
   "cell_type": "code",
   "execution_count": 10,
   "id": "48a5d7bf",
   "metadata": {},
   "outputs": [
    {
     "data": {
      "text/plain": [
       "array([[ 4,  2],\n",
       "       [-5, -3]])"
      ]
     },
     "execution_count": 10,
     "metadata": {},
     "output_type": "execute_result"
    }
   ],
   "source": [
    "X = np.array([[4, 2], [-5, -3]])\n",
    "X"
   ]
  },
  {
   "cell_type": "code",
   "execution_count": 11,
   "id": "0c895da7",
   "metadata": {},
   "outputs": [
    {
     "data": {
      "text/plain": [
       "True"
      ]
     },
     "execution_count": 11,
     "metadata": {},
     "output_type": "execute_result"
    }
   ],
   "source": [
    "round(np.linalg.det(X)) == (-3 * 4) - (-5 * 2)"
   ]
  },
  {
   "cell_type": "markdown",
   "id": "4ceb753c",
   "metadata": {},
   "source": [
    "### Generalizing Determinants"
   ]
  },
  {
   "cell_type": "code",
   "execution_count": 12,
   "id": "af508ccf",
   "metadata": {},
   "outputs": [
    {
     "data": {
      "text/plain": [
       "array([[ 1,  2,  4],\n",
       "       [ 2, -1,  3],\n",
       "       [ 0,  5,  1]])"
      ]
     },
     "execution_count": 12,
     "metadata": {},
     "output_type": "execute_result"
    }
   ],
   "source": [
    "X = np.array([[1, 2, 4], [2, -1, 3], [0, 5, 1]])\n",
    "X"
   ]
  },
  {
   "cell_type": "code",
   "execution_count": 13,
   "id": "c83a7015",
   "metadata": {},
   "outputs": [
    {
     "data": {
      "text/plain": [
       "19.999999999999996"
      ]
     },
     "execution_count": 13,
     "metadata": {},
     "output_type": "execute_result"
    }
   ],
   "source": [
    "np.linalg.det(X)"
   ]
  },
  {
   "cell_type": "code",
   "execution_count": 14,
   "id": "eed640bf",
   "metadata": {},
   "outputs": [
    {
     "data": {
      "text/plain": [
       "True"
      ]
     },
     "execution_count": 14,
     "metadata": {},
     "output_type": "execute_result"
    }
   ],
   "source": [
    "round(np.linalg.det(X)) == 1 * ((1 * -1) - (5 * 3)) - 2 * ((1 * 2) - (0 * 3)) + 4 * ((5 * 2) - (0 * -1))"
   ]
  },
  {
   "cell_type": "markdown",
   "id": "2e023d20",
   "metadata": {},
   "source": [
    "#### Similarly determinant of any matrix can be calculated, given the matrix is square."
   ]
  },
  {
   "cell_type": "markdown",
   "id": "2a67002c",
   "metadata": {},
   "source": [
    "### Exercises:\n",
    "1) Determinant of [[25, 2],[3, 4]], and whether it is a singular matrix"
   ]
  },
  {
   "cell_type": "code",
   "execution_count": 16,
   "id": "b3381c34",
   "metadata": {},
   "outputs": [
    {
     "data": {
      "text/plain": [
       "array([[25,  2],\n",
       "       [ 3,  4]])"
      ]
     },
     "execution_count": 16,
     "metadata": {},
     "output_type": "execute_result"
    }
   ],
   "source": [
    "X = np.array([[25, 2], [3, 4]])\n",
    "X"
   ]
  },
  {
   "cell_type": "code",
   "execution_count": 18,
   "id": "35416158",
   "metadata": {},
   "outputs": [
    {
     "data": {
      "text/plain": [
       "94.0"
      ]
     },
     "execution_count": 18,
     "metadata": {},
     "output_type": "execute_result"
    }
   ],
   "source": [
    "det_X = np.linalg.det(X)\n",
    "det_X"
   ]
  },
  {
   "cell_type": "markdown",
   "id": "1d8d00fd",
   "metadata": {},
   "source": [
    "det(X) is not 0, hence the matrix isn't singular."
   ]
  },
  {
   "cell_type": "code",
   "execution_count": 19,
   "id": "2f1f7741",
   "metadata": {},
   "outputs": [
    {
     "data": {
      "text/plain": [
       "array([[-2,  0],\n",
       "       [ 0, -2]])"
      ]
     },
     "execution_count": 19,
     "metadata": {},
     "output_type": "execute_result"
    }
   ],
   "source": [
    "X = np.array([[-2, 0], [0, -2]])\n",
    "X"
   ]
  },
  {
   "cell_type": "code",
   "execution_count": 20,
   "id": "d20fa851",
   "metadata": {},
   "outputs": [
    {
     "data": {
      "text/plain": [
       "4.0"
      ]
     },
     "execution_count": 20,
     "metadata": {},
     "output_type": "execute_result"
    }
   ],
   "source": [
    "det_X = np.linalg.det(X)\n",
    "det_X"
   ]
  },
  {
   "cell_type": "markdown",
   "id": "4980569a",
   "metadata": {},
   "source": [
    "det(X) is not 0, hence the matrix isn't singular."
   ]
  },
  {
   "cell_type": "code",
   "execution_count": 22,
   "id": "410737ec",
   "metadata": {},
   "outputs": [
    {
     "data": {
      "text/plain": [
       "array([[ 2,  1, -3],\n",
       "       [ 4, -5,  2],\n",
       "       [ 0, -1,  3]])"
      ]
     },
     "execution_count": 22,
     "metadata": {},
     "output_type": "execute_result"
    }
   ],
   "source": [
    "X = np.array([[2, 1, -3], [4, -5, 2], [0, -1, 3]])\n",
    "X"
   ]
  },
  {
   "cell_type": "code",
   "execution_count": 23,
   "id": "2a561389",
   "metadata": {},
   "outputs": [
    {
     "data": {
      "text/plain": [
       "-26.000000000000014"
      ]
     },
     "execution_count": 23,
     "metadata": {},
     "output_type": "execute_result"
    }
   ],
   "source": [
    "det_X = np.linalg.det(X)\n",
    "det_X"
   ]
  },
  {
   "cell_type": "markdown",
   "id": "4c01d6ab",
   "metadata": {},
   "source": [
    "det(X) is not 0, hence the matrix isn't singular."
   ]
  },
  {
   "cell_type": "markdown",
   "id": "4cbb6be3",
   "metadata": {},
   "source": [
    "### Determinants & Eigenvalues"
   ]
  },
  {
   "cell_type": "markdown",
   "id": "37bbddb0",
   "metadata": {},
   "source": [
    "#### The determinant is the product of all the eigenvalues. This is because the determinant of X represents the change in area/volume when X is applied to some other vector/matrix/tensor. For eg. In a 2X2 matrix, the Eigenvalues reprsent how much theEigenvectors have scaled, in each dimension and determinant represents the how much has the area scaled. Thus, the Determinant is equal to the product of all Eigenvalues. Similarly in 3 dimensions, the determinant represents the change in Volume."
   ]
  },
  {
   "cell_type": "code",
   "execution_count": 24,
   "id": "0678e638",
   "metadata": {},
   "outputs": [
    {
     "data": {
      "text/plain": [
       "array([-5.10785648,  1.35711931,  3.75073717])"
      ]
     },
     "execution_count": 24,
     "metadata": {},
     "output_type": "execute_result"
    }
   ],
   "source": [
    "lambdas, V = np.linalg.eig(X)\n",
    "lambdas"
   ]
  },
  {
   "cell_type": "code",
   "execution_count": 28,
   "id": "efbead75",
   "metadata": {},
   "outputs": [
    {
     "data": {
      "text/plain": [
       "-26"
      ]
     },
     "execution_count": 28,
     "metadata": {},
     "output_type": "execute_result"
    }
   ],
   "source": [
    "round(np.product(lambdas))"
   ]
  },
  {
   "cell_type": "code",
   "execution_count": 30,
   "id": "94238656",
   "metadata": {},
   "outputs": [
    {
     "data": {
      "text/plain": [
       "-26"
      ]
     },
     "execution_count": 30,
     "metadata": {},
     "output_type": "execute_result"
    }
   ],
   "source": [
    "round(np.linalg.det(X))"
   ]
  },
  {
   "cell_type": "markdown",
   "id": "cc404587",
   "metadata": {},
   "source": [
    "Let's use a matrix $B$, which is composed of basis vectors, to explore the impact of applying matrices with varying $|\\text{det}(X)|$ values: "
   ]
  },
  {
   "cell_type": "code",
   "execution_count": 32,
   "id": "666ed200",
   "metadata": {},
   "outputs": [
    {
     "data": {
      "text/plain": [
       "array([[1, 0],\n",
       "       [0, 1]])"
      ]
     },
     "execution_count": 32,
     "metadata": {},
     "output_type": "execute_result"
    }
   ],
   "source": [
    "B = np.array([[1, 0], [0, 1]])\n",
    "B"
   ]
  },
  {
   "cell_type": "code",
   "execution_count": 34,
   "id": "c637888a",
   "metadata": {},
   "outputs": [],
   "source": [
    "def plot_vectors(vectors, colors):\n",
    "    \"\"\"\n",
    "    Plot one or more vectors in a 2D plane, specifying a color for each. \n",
    "\n",
    "    Arguments\n",
    "    ---------\n",
    "    vectors: list of lists or of arrays\n",
    "        Coordinates of the vectors to plot. For example, [[1, 3], [2, 2]] \n",
    "        contains two vectors to plot, [1, 3] and [2, 2].\n",
    "    colors: list\n",
    "        Colors of the vectors. For instance: ['red', 'blue'] will display the\n",
    "        first vector in red and the second in blue.\n",
    "        \n",
    "    Example\n",
    "    -------\n",
    "    plot_vectors([[1, 3], [2, 2]], ['red', 'blue'])\n",
    "    plt.xlim(-1, 4)\n",
    "    plt.ylim(-1, 4)\n",
    "    \"\"\"\n",
    "    plt.figure()\n",
    "    plt.axvline(x=0, color='lightgray')\n",
    "    plt.axhline(y=0, color='lightgray')\n",
    "\n",
    "    for i in range(len(vectors)):\n",
    "        x = np.concatenate([[0,0],vectors[i]])\n",
    "        plt.quiver([x[0]], [x[1]], [x[2]], [x[3]],\n",
    "                   angles='xy', scale_units='xy', scale=1, color=colors[i],)"
   ]
  },
  {
   "cell_type": "code",
   "execution_count": 39,
   "id": "66d53b9a",
   "metadata": {},
   "outputs": [],
   "source": [
    "# function to convert column of matrix to 1D vector: \n",
    "def vectorfy(mtrx, clmn):\n",
    "    return np.array(mtrx[:,clmn]).reshape(-1)"
   ]
  },
  {
   "cell_type": "code",
   "execution_count": 41,
   "id": "17d25385",
   "metadata": {},
   "outputs": [
    {
     "data": {
      "image/png": "[encoded data removed]",
      "text/plain": [
       "<Figure size 432x288 with 1 Axes>"
      ]
     },
     "metadata": {
      "needs_background": "light"
     },
     "output_type": "display_data"
    }
   ],
   "source": [
    "plot_vectors([vectorfy(B, 0), vectorfy(B, 1)],\n",
    "            ['blue', 'green'])\n",
    "plt.xlim(-1, 3)\n",
    "_ = plt.ylim(-1, 3)"
   ]
  },
  {
   "cell_type": "markdown",
   "id": "ae1ea6b3",
   "metadata": {},
   "source": [
    "Let's start by applying the matrix $N$ to $B$, recalling from earlier that $N$ is singular: "
   ]
  },
  {
   "cell_type": "code",
   "execution_count": 42,
   "id": "783c6c6f",
   "metadata": {},
   "outputs": [
    {
     "data": {
      "text/plain": [
       "tensor([[-4.,  1.],\n",
       "        [-8.,  2.]])"
      ]
     },
     "execution_count": 42,
     "metadata": {},
     "output_type": "execute_result"
    }
   ],
   "source": [
    "N"
   ]
  },
  {
   "cell_type": "code",
   "execution_count": 43,
   "id": "07656e26",
   "metadata": {},
   "outputs": [
    {
     "data": {
      "text/plain": [
       "0.0"
      ]
     },
     "execution_count": 43,
     "metadata": {},
     "output_type": "execute_result"
    }
   ],
   "source": [
    "np.linalg.det(N)"
   ]
  },
  {
   "cell_type": "code",
   "execution_count": 44,
   "id": "d1c28194",
   "metadata": {},
   "outputs": [
    {
     "data": {
      "text/plain": [
       "array([[-4.,  1.],\n",
       "       [-8.,  2.]])"
      ]
     },
     "execution_count": 44,
     "metadata": {},
     "output_type": "execute_result"
    }
   ],
   "source": [
    "NB = np.dot(N, B)\n",
    "NB"
   ]
  },
  {
   "cell_type": "code",
   "execution_count": 45,
   "id": "f7e27dff",
   "metadata": {},
   "outputs": [
    {
     "data": {
      "image/png": "[encoded data removed]",
      "text/plain": [
       "<Figure size 432x288 with 1 Axes>"
      ]
     },
     "metadata": {
      "needs_background": "light"
     },
     "output_type": "display_data"
    }
   ],
   "source": [
    "plot_vectors([vectorfy(B, 0), vectorfy(B, 1), vectorfy(NB, 0), vectorfy(NB, 1)],\n",
    "            ['blue', 'green', 'darkblue', 'darkgreen'])\n",
    "plt.xlim(-6, 6)\n",
    "_ = plt.ylim(-9, 3)"
   ]
  },
  {
   "cell_type": "markdown",
   "id": "d8d9bcde",
   "metadata": {},
   "source": [
    "In the previous figure, the square that was formed by the basis vectors would have given us an area of 1. Here, since the determinant of this matrix is 0, the area of the tranformed matrix would be zero. We can confirm that by the above image, both the vectors lie on the same line and the are of this line is 0."
   ]
  },
  {
   "cell_type": "code",
   "execution_count": 46,
   "id": "397fda67",
   "metadata": {},
   "outputs": [
    {
     "data": {
      "text/plain": [
       "array([-2.,  0.], dtype=float32)"
      ]
     },
     "execution_count": 46,
     "metadata": {},
     "output_type": "execute_result"
    }
   ],
   "source": [
    "lambdas, V = np.linalg.eig(N)\n",
    "lambdas"
   ]
  },
  {
   "cell_type": "markdown",
   "id": "fca707e6",
   "metadata": {},
   "source": [
    "Since one of the Eigenvalues is 0, one Eigenvector must have become 0 after transormation, hence the are is 0, Determinants = Product of Eigenvectors also holds true."
   ]
  },
  {
   "cell_type": "markdown",
   "id": "aac6097b",
   "metadata": {},
   "source": [
    "Now let's try applying $I_2$ to $B$: "
   ]
  },
  {
   "cell_type": "code",
   "execution_count": 50,
   "id": "ac3bd214",
   "metadata": {},
   "outputs": [
    {
     "data": {
      "text/plain": [
       "array([[1, 0],\n",
       "       [0, 1]])"
      ]
     },
     "execution_count": 50,
     "metadata": {},
     "output_type": "execute_result"
    }
   ],
   "source": [
    "I = np.array([[1, 0], [0, 1]])\n",
    "I"
   ]
  },
  {
   "cell_type": "code",
   "execution_count": 51,
   "id": "c87e8e30",
   "metadata": {},
   "outputs": [
    {
     "data": {
      "text/plain": [
       "1.0"
      ]
     },
     "execution_count": 51,
     "metadata": {},
     "output_type": "execute_result"
    }
   ],
   "source": [
    "np.linalg.det(I)"
   ]
  },
  {
   "cell_type": "code",
   "execution_count": 52,
   "id": "16a264cb",
   "metadata": {},
   "outputs": [
    {
     "data": {
      "text/plain": [
       "array([[1, 0],\n",
       "       [0, 1]])"
      ]
     },
     "execution_count": 52,
     "metadata": {},
     "output_type": "execute_result"
    }
   ],
   "source": [
    "IB = np.dot(I, B)\n",
    "IB"
   ]
  },
  {
   "cell_type": "code",
   "execution_count": 53,
   "id": "52263569",
   "metadata": {},
   "outputs": [
    {
     "data": {
      "image/png": "[encoded data removed]",
      "text/plain": [
       "<Figure size 432x288 with 1 Axes>"
      ]
     },
     "metadata": {
      "needs_background": "light"
     },
     "output_type": "display_data"
    }
   ],
   "source": [
    "plot_vectors([vectorfy(B, 0), vectorfy(B, 1), vectorfy(IB, 0), vectorfy(IB, 1)],\n",
    "            ['lightblue', 'lightgreen', 'blue', 'green'])\n",
    "plt.xlim(-1, 3)\n",
    "_ = plt.ylim(-1, 3)"
   ]
  },
  {
   "cell_type": "markdown",
   "id": "1bc2599c",
   "metadata": {},
   "source": [
    "Here the determinant is 1, so the area does not change, but this is a special case where, even the vectors did not change, so the are had to remain same. Let's confirm that the product of the eigen values is also 1."
   ]
  },
  {
   "cell_type": "code",
   "execution_count": 54,
   "id": "9f8571a5",
   "metadata": {},
   "outputs": [
    {
     "data": {
      "text/plain": [
       "array([1., 1.])"
      ]
     },
     "execution_count": 54,
     "metadata": {},
     "output_type": "execute_result"
    }
   ],
   "source": [
    "lambdas, V = np.linalg.eig(I)\n",
    "lambdas"
   ]
  },
  {
   "cell_type": "markdown",
   "id": "ee648486",
   "metadata": {},
   "source": [
    "All right, so applying an identity matrix isn't the most exciting operation in the world. Let's now apply this matrix $J$ which is more interesting: "
   ]
  },
  {
   "cell_type": "code",
   "execution_count": 55,
   "id": "045e605e",
   "metadata": {},
   "outputs": [
    {
     "data": {
      "text/plain": [
       "array([[-0.5,  0. ],\n",
       "       [ 0. ,  2. ]])"
      ]
     },
     "execution_count": 55,
     "metadata": {},
     "output_type": "execute_result"
    }
   ],
   "source": [
    "J = np.array([[-0.5, 0], [0, 2]])\n",
    "J"
   ]
  },
  {
   "cell_type": "code",
   "execution_count": 56,
   "id": "28e14558",
   "metadata": {},
   "outputs": [
    {
     "data": {
      "text/plain": [
       "-1.0"
      ]
     },
     "execution_count": 56,
     "metadata": {},
     "output_type": "execute_result"
    }
   ],
   "source": [
    "np.linalg.det(J)"
   ]
  },
  {
   "cell_type": "code",
   "execution_count": 57,
   "id": "9f92c65c",
   "metadata": {},
   "outputs": [
    {
     "data": {
      "text/plain": [
       "1.0"
      ]
     },
     "execution_count": 57,
     "metadata": {},
     "output_type": "execute_result"
    }
   ],
   "source": [
    "np.abs(np.linalg.det(J))"
   ]
  },
  {
   "cell_type": "code",
   "execution_count": 59,
   "id": "1b9accea",
   "metadata": {},
   "outputs": [
    {
     "data": {
      "text/plain": [
       "array([[-0.5,  0. ],\n",
       "       [ 0. ,  2. ]])"
      ]
     },
     "execution_count": 59,
     "metadata": {},
     "output_type": "execute_result"
    }
   ],
   "source": [
    "JB = np.dot(J, B)\n",
    "JB"
   ]
  },
  {
   "cell_type": "code",
   "execution_count": 60,
   "id": "a40c7343",
   "metadata": {},
   "outputs": [
    {
     "data": {
      "image/png": "[encoded data removed]",
      "text/plain": [
       "<Figure size 432x288 with 1 Axes>"
      ]
     },
     "metadata": {
      "needs_background": "light"
     },
     "output_type": "display_data"
    }
   ],
   "source": [
    "plot_vectors([vectorfy(B, 0), vectorfy(B, 1), vectorfy(JB, 0), vectorfy(JB, 1)],\n",
    "            ['lightblue', 'lightgreen', 'blue', 'green'])\n",
    "plt.xlim(-1, 3)\n",
    "_ = plt.ylim(-1, 3)"
   ]
  },
  {
   "cell_type": "markdown",
   "id": "cbeffb80",
   "metadata": {},
   "source": [
    "Here, area of the squaure formed by the basic vectors and the rectangle formed by the transformed matrix are the same. Let's confirm this by comfirming,  the absolute value of the product of Eigenvectors is 1."
   ]
  },
  {
   "cell_type": "code",
   "execution_count": 61,
   "id": "58f6d375",
   "metadata": {},
   "outputs": [
    {
     "data": {
      "text/plain": [
       "array([-0.5,  2. ])"
      ]
     },
     "execution_count": 61,
     "metadata": {},
     "output_type": "execute_result"
    }
   ],
   "source": [
    "lambdas, V = np.linalg.eig(J)\n",
    "lambdas"
   ]
  },
  {
   "cell_type": "code",
   "execution_count": 63,
   "id": "239c5d97",
   "metadata": {},
   "outputs": [
    {
     "data": {
      "text/plain": [
       "1.0"
      ]
     },
     "execution_count": 63,
     "metadata": {},
     "output_type": "execute_result"
    }
   ],
   "source": [
    "np.abs(np.product(lambdas))"
   ]
  },
  {
   "cell_type": "markdown",
   "id": "365eff57",
   "metadata": {},
   "source": [
    "Finally, let's apply the matrix $D$, which scales vectors by doubling along both the $x$ and $y$ axes: "
   ]
  },
  {
   "cell_type": "code",
   "execution_count": 64,
   "id": "6eff5f3e",
   "metadata": {},
   "outputs": [
    {
     "data": {
      "text/plain": [
       "array([[2, 0],\n",
       "       [0, 2]])"
      ]
     },
     "execution_count": 64,
     "metadata": {},
     "output_type": "execute_result"
    }
   ],
   "source": [
    "D = I*2\n",
    "D"
   ]
  },
  {
   "cell_type": "code",
   "execution_count": 67,
   "id": "2a43ad22",
   "metadata": {},
   "outputs": [
    {
     "data": {
      "text/plain": [
       "4.0"
      ]
     },
     "execution_count": 67,
     "metadata": {},
     "output_type": "execute_result"
    }
   ],
   "source": [
    "np.linalg.det(D)"
   ]
  },
  {
   "cell_type": "code",
   "execution_count": 68,
   "id": "1fc36c4a",
   "metadata": {},
   "outputs": [
    {
     "data": {
      "text/plain": [
       "array([[2, 0],\n",
       "       [0, 2]])"
      ]
     },
     "execution_count": 68,
     "metadata": {},
     "output_type": "execute_result"
    }
   ],
   "source": [
    "DB = np.dot(D, B)\n",
    "DB"
   ]
  },
  {
   "cell_type": "code",
   "execution_count": 69,
   "id": "6b010497",
   "metadata": {},
   "outputs": [
    {
     "data": {
      "image/png": "[encoded data removed]",
      "text/plain": [
       "<Figure size 432x288 with 1 Axes>"
      ]
     },
     "metadata": {
      "needs_background": "light"
     },
     "output_type": "display_data"
    }
   ],
   "source": [
    "plot_vectors([vectorfy(B, 0), vectorfy(B, 1), vectorfy(DB, 0), vectorfy(DB, 1)],\n",
    "            ['lightblue', 'lightgreen', 'blue', 'green'])\n",
    "plt.xlim(-1, 3)\n",
    "_ = plt.ylim(-1, 3)"
   ]
  },
  {
   "cell_type": "markdown",
   "id": "5665bd28",
   "metadata": {},
   "source": [
    "Here the area becomes 4 times, it is quite obvious from the figure. Let's confirm once again with the Eigenvalues."
   ]
  },
  {
   "cell_type": "code",
   "execution_count": 70,
   "id": "912abbf1",
   "metadata": {},
   "outputs": [
    {
     "data": {
      "text/plain": [
       "array([2., 2.])"
      ]
     },
     "execution_count": 70,
     "metadata": {},
     "output_type": "execute_result"
    }
   ],
   "source": [
    "lambdas, V = np.linalg.eig(D)\n",
    "lambdas"
   ]
  },
  {
   "cell_type": "code",
   "execution_count": 71,
   "id": "011ff813",
   "metadata": {},
   "outputs": [
    {
     "data": {
      "text/plain": [
       "4.0"
      ]
     },
     "execution_count": 71,
     "metadata": {},
     "output_type": "execute_result"
    }
   ],
   "source": [
    "np.abs(np.product(lambdas))"
   ]
  },
  {
   "cell_type": "code",
   "execution_count": null,
   "id": "2bf3786f",
   "metadata": {},
   "outputs": [],
   "source": []
  }
 ],
 "metadata": {
  "kernelspec": {
   "display_name": "Python 3 (ipykernel)",
   "language": "python",
   "name": "python3"
  },
  "language_info": {
   "codemirror_mode": {
    "name": "ipython",
    "version": 3
   },
   "file_extension": ".py",
   "mimetype": "text/x-python",
   "name": "python",
   "nbconvert_exporter": "python",
   "pygments_lexer": "ipython3",
   "version": "3.9.7"
  }
 },
 "nbformat": 4,
 "nbformat_minor": 5
}
