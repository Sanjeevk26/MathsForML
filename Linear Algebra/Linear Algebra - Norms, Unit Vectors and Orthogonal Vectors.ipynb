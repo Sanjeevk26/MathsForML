{
 "cells": [
  {
   "cell_type": "code",
   "execution_count": 1,
   "id": "50588e77",
   "metadata": {},
   "outputs": [],
   "source": [
    "import numpy as np\n",
    "import matplotlib.pyplot as plt\n",
    "import torch\n",
    "import tensorflow as tf"
   ]
  },
  {
   "cell_type": "markdown",
   "id": "16c46ba7",
   "metadata": {},
   "source": [
    "### $L^2$ Norm\n",
    "#### It is the square root of the summation of suares of all the elements. This norm also gives us the value of the Euclidean distance of a point from the origin."
   ]
  },
  {
   "cell_type": "code",
   "execution_count": 2,
   "id": "ef96f47d",
   "metadata": {},
   "outputs": [
    {
     "data": {
      "text/plain": [
       "array([25,  2,  5])"
      ]
     },
     "execution_count": 2,
     "metadata": {},
     "output_type": "execute_result"
    }
   ],
   "source": [
    "x = np.array([25, 2, 5]) # type argument is optional, e.g.: dtype=np.float16\n",
    "x"
   ]
  },
  {
   "cell_type": "code",
   "execution_count": 3,
   "id": "ba6c35b0",
   "metadata": {},
   "outputs": [
    {
     "data": {
      "text/plain": [
       "25.573423705088842"
      ]
     },
     "execution_count": 3,
     "metadata": {},
     "output_type": "execute_result"
    }
   ],
   "source": [
    "l2_norm = (25**2 + 2**2 + 5**2)**(1/2)\n",
    "l2_norm"
   ]
  },
  {
   "cell_type": "code",
   "execution_count": 4,
   "id": "2d957445",
   "metadata": {},
   "outputs": [
    {
     "data": {
      "text/plain": [
       "25.573423705088842"
      ]
     },
     "execution_count": 4,
     "metadata": {},
     "output_type": "execute_result"
    }
   ],
   "source": [
    "np.linalg.norm(x) # direct formula"
   ]
  },
  {
   "cell_type": "markdown",
   "id": "b26e5eff",
   "metadata": {},
   "source": [
    "So, if units in this 3-dimensional vector space are meters, then the vector $x$ has a length of 25.6m"
   ]
  },
  {
   "cell_type": "markdown",
   "id": "fccb8606",
   "metadata": {},
   "source": [
    "### $L^1$ Norm\n",
    "\n",
    "#### It is the summation of absolute/modulus values of all the elements."
   ]
  },
  {
   "cell_type": "code",
   "execution_count": 5,
   "id": "abb6b68b",
   "metadata": {},
   "outputs": [
    {
     "data": {
      "text/plain": [
       "32"
      ]
     },
     "execution_count": 5,
     "metadata": {},
     "output_type": "execute_result"
    }
   ],
   "source": [
    "l1_norm = np.abs(25) + np.abs(2) + np.abs(5)\n",
    "l1_norm"
   ]
  },
  {
   "cell_type": "markdown",
   "id": "b9cb9a03",
   "metadata": {},
   "source": [
    "### Squared $L^2$ Norm\n",
    "\n",
    "#### It is the summation of squares of all the elements. It can also be found by using dot product of a tensor with itself."
   ]
  },
  {
   "cell_type": "code",
   "execution_count": 6,
   "id": "0c1640c3",
   "metadata": {},
   "outputs": [
    {
     "data": {
      "text/plain": [
       "654"
      ]
     },
     "execution_count": 6,
     "metadata": {},
     "output_type": "execute_result"
    }
   ],
   "source": [
    "(25**2 + 2**2 + 5**2)"
   ]
  },
  {
   "cell_type": "code",
   "execution_count": 7,
   "id": "154d586d",
   "metadata": {},
   "outputs": [
    {
     "data": {
      "text/plain": [
       "654"
      ]
     },
     "execution_count": 7,
     "metadata": {},
     "output_type": "execute_result"
    }
   ],
   "source": [
    "np.dot(x, x)"
   ]
  },
  {
   "cell_type": "markdown",
   "id": "1c42e7e5",
   "metadata": {},
   "source": [
    "### Max Norm\n",
    "\n",
    "#### It is the maximum absolute value of the all the elements of the tensor."
   ]
  },
  {
   "cell_type": "code",
   "execution_count": 8,
   "id": "ce2e25f9",
   "metadata": {},
   "outputs": [
    {
     "data": {
      "text/plain": [
       "25"
      ]
     },
     "execution_count": 8,
     "metadata": {},
     "output_type": "execute_result"
    }
   ],
   "source": [
    "np.max([np.abs(25), np.abs(2), np.abs(5)])"
   ]
  },
  {
   "cell_type": "markdown",
   "id": "b8b56895",
   "metadata": {},
   "source": [
    "### Unit Vectors\n",
    "\n",
    "#### A special type of vector, whose $L^2$ Norm is 1 or whose distance from the origin is 1. Any tensor of the type ([CosA, SinA]) is a unit vector.\n",
    "#### This is because $Cos^2A$ + $Sin^2A$ is always equal to 1 and Sqrt(1) will give us 1."
   ]
  },
  {
   "cell_type": "code",
   "execution_count": 15,
   "id": "fd47e680",
   "metadata": {},
   "outputs": [
    {
     "data": {
      "text/plain": [
       "array([0.70710678, 0.70710678])"
      ]
     },
     "execution_count": 15,
     "metadata": {},
     "output_type": "execute_result"
    }
   ],
   "source": [
    "j = 2 ** 0.5 \n",
    "y = np.array([1/j,1/j])\n",
    "y "
   ]
  },
  {
   "cell_type": "code",
   "execution_count": 19,
   "id": "5920bba4",
   "metadata": {},
   "outputs": [
    {
     "data": {
      "text/plain": [
       "0.9999999999999999"
      ]
     },
     "execution_count": 19,
     "metadata": {},
     "output_type": "execute_result"
    }
   ],
   "source": [
    "np.linalg.norm(y) "
   ]
  },
  {
   "cell_type": "markdown",
   "id": "19d72b79",
   "metadata": {},
   "source": [
    "#### y is a special case where A = 45 degrees,both SinA and CosA are equal at 45 degrees. y is a unit vector."
   ]
  },
  {
   "cell_type": "markdown",
   "id": "e2c71aaf",
   "metadata": {},
   "source": [
    "### Basis Vectors\n",
    "\n",
    "#### Vectors that can be scaled to represent any other vector in  a given vector space. Typically the unit vectors along the given axes are chosen to be the basis vector (For eg. ([[ 1, 0 ], [ 0, 1 ]] in 2d space and [[ 1 ,0, 0 ], [ 0 ,1 , 0], [ 0 , 0, 1 ]] in 3d space.)"
   ]
  },
  {
   "cell_type": "code",
   "execution_count": null,
   "id": "77b2885c",
   "metadata": {},
   "outputs": [],
   "source": []
  }
 ],
 "metadata": {
  "kernelspec": {
   "display_name": "Python 3 (ipykernel)",
   "language": "python",
   "name": "python3"
  },
  "language_info": {
   "codemirror_mode": {
    "name": "ipython",
    "version": 3
   },
   "file_extension": ".py",
   "mimetype": "text/x-python",
   "name": "python",
   "nbconvert_exporter": "python",
   "pygments_lexer": "ipython3",
   "version": "3.9.7"
  }
 },
 "nbformat": 4,
 "nbformat_minor": 5
}
